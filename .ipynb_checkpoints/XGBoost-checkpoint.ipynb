{
 "cells": [
  {
   "cell_type": "code",
   "execution_count": 46,
   "metadata": {},
   "outputs": [],
   "source": [
    "import xgboost as xgb\n",
    "from xgboost import plot_importance\n",
    "from sklearn.datasets import load_iris\n",
    "from sklearn.model_selection import train_test_split\n",
    "import matplotlib.pyplot as plt\n",
    "import numpy as np"
   ]
  },
  {
   "cell_type": "code",
   "execution_count": 80,
   "metadata": {},
   "outputs": [
    {
     "name": "stdout",
     "output_type": "stream",
     "text": [
      "[0]\teval-merror:0\n",
      "[1]\teval-merror:0\n",
      "[2]\teval-merror:0\n",
      "[3]\teval-merror:0\n",
      "[4]\teval-merror:0\n",
      "[5]\teval-merror:0\n",
      "[6]\teval-merror:0\n",
      "[7]\teval-merror:0\n",
      "[8]\teval-merror:0\n",
      "[9]\teval-merror:0\n"
     ]
    },
    {
     "data": {
      "image/png": "[encoded data removed]",
      "text/plain": [
       "<Figure size 432x288 with 1 Axes>"
      ]
     },
     "metadata": {
      "needs_background": "light"
     },
     "output_type": "display_data"
    },
    {
     "name": "stdout",
     "output_type": "stream",
     "text": [
      "预测结果：\n",
      "[2. 2. 2.]\n",
      "[2 2 2]\n"
     ]
    }
   ],
   "source": [
    "iris = load_iris()\n",
    "x = np.array(iris.data)\n",
    "y = np.array(iris.target)\n",
    "x_test = x[-3:,:]\n",
    "y_test = y[-3:]\n",
    "x_train, x_valid, y_train, y_valid = train_test_split(x[:-3,:], y[:-3], test_size=0.2)\n",
    "train = xgb.DMatrix(x_train, label=y_train)\n",
    "valid = xgb.DMatrix(x_valid, label=y_valid)\n",
    "test = xgb.DMatrix(x_test, label=y_test)\n",
    "# 参数设置\n",
    "params = {\n",
    "    'booster': 'gbtree',\n",
    "    'objective':'multi:softmax',\n",
    "    'num_class': 3,\n",
    "    'max_depth':6,\n",
    "    'eta':0.1,\n",
    "    'silent':1,\n",
    "    'gamma':0,\n",
    "    'min_child_weight':1,\n",
    "    'subsample':1,\n",
    "    'colsample_bytree':1,\n",
    "    'colsample_bylevel':1,\n",
    "    'lambda':1,\n",
    "    'alpha':0,\n",
    "    'nthread':-1,\n",
    "    'eval_metric':'merror',\n",
    "    'seed':0\n",
    "}\n",
    "# 验证集\n",
    "evallist  = [(valid,'eval')]\n",
    "# 模型训练\n",
    "model = xgb.train(params.items(), train, 10, evals=evallist)\n",
    "# 特征重要性\n",
    "plot_importance(model)\n",
    "plt.show()\n",
    "# 预测\n",
    "res = model.predict(test)\n",
    "print('预测结果：')\n",
    "print(res)\n",
    "print(y_test)"
   ]
  },
  {
   "cell_type": "code",
   "execution_count": 2,
   "metadata": {},
   "outputs": [],
   "source": []
  },
  {
   "cell_type": "code",
   "execution_count": 8,
   "metadata": {},
   "outputs": [],
   "source": []
  },
  {
   "cell_type": "code",
   "execution_count": 186,
   "metadata": {
    "scrolled": false
   },
   "outputs": [
    {
     "name": "stdout",
     "output_type": "stream",
     "text": [
      "[0]\teval-rmse:20.1634\n",
      "[1]\teval-rmse:18.2583\n",
      "[2]\teval-rmse:16.5048\n",
      "[3]\teval-rmse:14.982\n",
      "[4]\teval-rmse:13.6612\n",
      "[5]\teval-rmse:12.4716\n",
      "[6]\teval-rmse:11.3558\n",
      "[7]\teval-rmse:10.33\n",
      "[8]\teval-rmse:9.41555\n",
      "[9]\teval-rmse:8.58021\n",
      "[10]\teval-rmse:7.93676\n",
      "[11]\teval-rmse:7.31172\n",
      "[12]\teval-rmse:6.80853\n",
      "[13]\teval-rmse:6.37596\n",
      "[14]\teval-rmse:5.86869\n",
      "[15]\teval-rmse:5.45487\n",
      "[16]\teval-rmse:5.10196\n",
      "[17]\teval-rmse:4.76011\n",
      "[18]\teval-rmse:4.49064\n",
      "[19]\teval-rmse:4.22975\n",
      "[20]\teval-rmse:4.01213\n",
      "[21]\teval-rmse:3.81686\n",
      "[22]\teval-rmse:3.66746\n",
      "[23]\teval-rmse:3.51259\n",
      "[24]\teval-rmse:3.35811\n",
      "[25]\teval-rmse:3.25464\n",
      "[26]\teval-rmse:3.15705\n",
      "[27]\teval-rmse:3.07667\n",
      "[28]\teval-rmse:3.03153\n",
      "[29]\teval-rmse:2.98254\n",
      "[30]\teval-rmse:2.91762\n",
      "[31]\teval-rmse:2.87163\n",
      "[32]\teval-rmse:2.8337\n",
      "[33]\teval-rmse:2.79431\n",
      "[34]\teval-rmse:2.77643\n",
      "[35]\teval-rmse:2.76165\n",
      "[36]\teval-rmse:2.73087\n",
      "[37]\teval-rmse:2.72661\n",
      "[38]\teval-rmse:2.72968\n",
      "[39]\teval-rmse:2.72001\n",
      "[40]\teval-rmse:2.71822\n",
      "[41]\teval-rmse:2.70941\n",
      "[42]\teval-rmse:2.69201\n",
      "[43]\teval-rmse:2.65658\n",
      "[44]\teval-rmse:2.64874\n",
      "[45]\teval-rmse:2.63473\n",
      "[46]\teval-rmse:2.61594\n",
      "[47]\teval-rmse:2.61501\n",
      "[48]\teval-rmse:2.6056\n",
      "[49]\teval-rmse:2.58855\n",
      "[50]\teval-rmse:2.57254\n",
      "[51]\teval-rmse:2.55415\n",
      "[52]\teval-rmse:2.53956\n",
      "[53]\teval-rmse:2.53833\n",
      "[54]\teval-rmse:2.5337\n",
      "[55]\teval-rmse:2.52404\n",
      "[56]\teval-rmse:2.51909\n",
      "[57]\teval-rmse:2.50447\n",
      "[58]\teval-rmse:2.49235\n",
      "[59]\teval-rmse:2.48385\n",
      "[60]\teval-rmse:2.479\n",
      "[61]\teval-rmse:2.46825\n",
      "[62]\teval-rmse:2.46407\n",
      "[63]\teval-rmse:2.46343\n",
      "[64]\teval-rmse:2.4629\n",
      "[65]\teval-rmse:2.46382\n",
      "[66]\teval-rmse:2.45965\n",
      "[67]\teval-rmse:2.45709\n",
      "[68]\teval-rmse:2.45872\n",
      "[69]\teval-rmse:2.46274\n",
      "[70]\teval-rmse:2.4534\n",
      "[71]\teval-rmse:2.45397\n",
      "[72]\teval-rmse:2.45383\n",
      "[73]\teval-rmse:2.4492\n",
      "[74]\teval-rmse:2.45143\n",
      "[75]\teval-rmse:2.44966\n",
      "[76]\teval-rmse:2.44645\n",
      "[77]\teval-rmse:2.44538\n",
      "[78]\teval-rmse:2.43896\n",
      "[79]\teval-rmse:2.44126\n",
      "[80]\teval-rmse:2.43904\n",
      "[81]\teval-rmse:2.44377\n",
      "[82]\teval-rmse:2.4435\n",
      "[83]\teval-rmse:2.44264\n",
      "[84]\teval-rmse:2.44257\n",
      "[85]\teval-rmse:2.44655\n",
      "[86]\teval-rmse:2.44415\n",
      "[87]\teval-rmse:2.44211\n",
      "[88]\teval-rmse:2.44032\n",
      "[89]\teval-rmse:2.4426\n",
      "[90]\teval-rmse:2.44129\n",
      "[91]\teval-rmse:2.44276\n",
      "[92]\teval-rmse:2.44154\n",
      "[93]\teval-rmse:2.43965\n",
      "[94]\teval-rmse:2.43713\n",
      "[95]\teval-rmse:2.4333\n",
      "[96]\teval-rmse:2.43207\n",
      "[97]\teval-rmse:2.43346\n",
      "[98]\teval-rmse:2.43122\n",
      "[99]\teval-rmse:2.43061\n",
      "[100]\teval-rmse:2.42646\n",
      "[101]\teval-rmse:2.42608\n",
      "[102]\teval-rmse:2.4249\n",
      "[103]\teval-rmse:2.42378\n",
      "[104]\teval-rmse:2.42709\n",
      "[105]\teval-rmse:2.42613\n",
      "[106]\teval-rmse:2.4271\n",
      "[107]\teval-rmse:2.42863\n",
      "[108]\teval-rmse:2.43325\n",
      "[109]\teval-rmse:2.43258\n",
      "[110]\teval-rmse:2.43689\n",
      "[111]\teval-rmse:2.43637\n",
      "[112]\teval-rmse:2.44044\n",
      "[113]\teval-rmse:2.43757\n",
      "[114]\teval-rmse:2.43499\n",
      "[115]\teval-rmse:2.43076\n",
      "[116]\teval-rmse:2.42921\n",
      "[117]\teval-rmse:2.43427\n",
      "[118]\teval-rmse:2.43125\n",
      "[119]\teval-rmse:2.42992\n",
      "[120]\teval-rmse:2.43149\n",
      "[121]\teval-rmse:2.42966\n",
      "[122]\teval-rmse:2.42909\n",
      "[123]\teval-rmse:2.42838\n",
      "[124]\teval-rmse:2.42698\n",
      "[125]\teval-rmse:2.42596\n",
      "[126]\teval-rmse:2.42632\n",
      "[127]\teval-rmse:2.42414\n",
      "[128]\teval-rmse:2.42502\n",
      "[129]\teval-rmse:2.42314\n"
     ]
    },
    {
     "data": {
      "image/png": "[encoded data removed]",
      "text/plain": [
       "<Figure size 432x288 with 1 Axes>"
      ]
     },
     "metadata": {
      "needs_background": "light"
     },
     "output_type": "display_data"
    },
    {
     "name": "stdout",
     "output_type": "stream",
     "text": [
      "预测结果：\n",
      "[26.45364  24.462368 21.83823 ]\n",
      "[23.9 22.  11.9]\n"
     ]
    }
   ],
   "source": [
    "import xgboost as xgb\n",
    "from xgboost import plot_importance\n",
    "from sklearn.datasets import load_boston\n",
    "from sklearn.model_selection import train_test_split\n",
    "import matplotlib.pyplot as plt\n",
    "import numpy as np\n",
    "# 加载数据\n",
    "boston = load_boston()\n",
    "x = np.array(boston.data)\n",
    "y = np.array(boston.target)\n",
    "x_test = x[-3:,:]\n",
    "y_test = y[-3:]\n",
    "x_train, x_valid, y_train, y_valid = train_test_split(x[:-3,:], y[:-3], test_size=0.2)\n",
    "train = xgb.DMatrix(x_train, label=y_train)\n",
    "valid = xgb.DMatrix(x_valid, label=y_valid)\n",
    "test = xgb.DMatrix(x_test, label=y_test)\n",
    "# 参数设置\n",
    "params = {\n",
    "    'booster': 'gbtree',\n",
    "    'objective':'reg:linear',\n",
    "    'max_depth':9,\n",
    "    'eta':0.1,\n",
    "    'silent':1,\n",
    "    'gamma':0.1,\n",
    "    'min_child_weight':0,\n",
    "    'subsample':0.5,\n",
    "    'colsample_bytree':0.8,\n",
    "    'colsample_bylevel':0.4,\n",
    "    'lambda':0.8,\n",
    "    'alpha':0.4,\n",
    "    'nthread':-1,\n",
    "    'eval_metric':'rmse',\n",
    "    'seed':0\n",
    "}\n",
    "# 验证集\n",
    "evallist  = [(valid,'eval')]\n",
    "# 模型训练\n",
    "model = xgb.train(params.items(), train, 130, evals=evallist)\n",
    "# 特征重要性\n",
    "plot_importance(model)\n",
    "plt.show()\n",
    "# 预测\n",
    "res = model.predict(test)\n",
    "print('预测结果：')\n",
    "print(res)\n",
    "print(y_test)"
   ]
  },
  {
   "cell_type": "code",
   "execution_count": 26,
   "metadata": {},
   "outputs": [
    {
     "name": "stdout",
     "output_type": "stream",
     "text": [
      "Best round： 70\n",
      "Best score： [0.485726   0.07587458 3.73819933 0.82390961]\n"
     ]
    }
   ],
   "source": [
    "params = {\n",
    "    'booster': 'gbtree',\n",
    "    'objective':'reg:linear',\n",
    "    'max_depth':9,\n",
    "    'eta':0.1,\n",
    "    'silent':1,\n",
    "    'gamma':0,\n",
    "    'min_child_weight':1,\n",
    "    'subsample':1,\n",
    "    'colsample_bytree':1,\n",
    "    'colsample_bylevel':1,\n",
    "    'lambda':1,\n",
    "    'alpha':0,\n",
    "    'nthread':-1,\n",
    "    'eval_metric':'rmse',\n",
    "    'seed':0\n",
    "}\n",
    "cv = xgb.cv(params, train, num_boost_round=10000, nfold=3, metrics='rmse', early_stopping_rounds=10, seed=0)\n",
    "print('Best round：',cv.shape[0])\n",
    "print('Best score：',cv.values[-1,:])"
   ]
  },
  {
   "cell_type": "code",
   "execution_count": 128,
   "metadata": {},
   "outputs": [],
   "source": [
    "boston = load_boston()\n",
    "x = np.array(boston.data)\n",
    "y = np.array(boston.target)\n",
    "x_test = x[-3:,:]\n",
    "y_test = y[-3:]\n",
    "x_train, x_valid, y_train, y_valid = train_test_split(x[:-3,:], y[:-3], test_size=0.2)\n",
    "train = xgb.DMatrix(x_train, label=y_train)\n",
    "valid = xgb.DMatrix(x_valid, label=y_valid)\n",
    "test = xgb.DMatrix(x_test, label=y_test)"
   ]
  },
  {
   "cell_type": "code",
   "execution_count": 176,
   "metadata": {
    "scrolled": true
   },
   "outputs": [
    {
     "name": "stdout",
     "output_type": "stream",
     "text": [
      "7.081016449367342\n",
      "预测结果：\n",
      "[28.251125 28.370945 23.657972]\n",
      "[23.9 22.  11.9]\n"
     ]
    }
   ],
   "source": [
    "# 模型训练\n",
    "model = xgb.XGBRegressor(max_depth=9, learning_rate=0.1, n_estimators=130, silent=True, \n",
    "                         objective='reg:linear', nthread=-1, gamma=0.1, min_child_weight=0, \n",
    "                         max_delta_step=0, subsample=0.5, colsample_bytree=0.8, colsample_bylevel=0.4, \n",
    "                         reg_alpha=0.4, reg_lambda=0.8, scale_pos_weight=1, base_score=0.5, seed=0, \n",
    "                         missing=None)\n",
    "model.fit(x_train,y_train)\n",
    "val = model.predict(x_valid)\n",
    "print(mean_squared_error(y_valid,val))\n",
    "res = model.predict(x_test)\n",
    "print('预测结果：')\n",
    "print(res)\n",
    "print(y_test)"
   ]
  },
  {
   "cell_type": "code",
   "execution_count": 177,
   "metadata": {},
   "outputs": [
    {
     "name": "stdout",
     "output_type": "stream",
     "text": [
      "7.081016449367342\n",
      "预测结果：\n",
      "[28.251125 28.370945 23.657972]\n",
      "[23.9 22.  11.9]\n",
      "Fitting 5 folds for each of 1 candidates, totalling 5 fits\n"
     ]
    },
    {
     "name": "stderr",
     "output_type": "stream",
     "text": [
      "[Parallel(n_jobs=-1)]: Using backend LokyBackend with 6 concurrent workers.\n"
     ]
    },
    {
     "name": "stdout",
     "output_type": "stream",
     "text": [
      "Best params: {}\n",
      "Best score: -10.908728788220264\n"
     ]
    },
    {
     "name": "stderr",
     "output_type": "stream",
     "text": [
      "[Parallel(n_jobs=-1)]: Done   5 out of   5 | elapsed:    1.4s finished\n"
     ]
    }
   ],
   "source": [
    "from sklearn.model_selection import GridSearchCV\n",
    "from sklearn.metrics import mean_squared_error\n",
    "para = {\n",
    "#     'learning_rate':[0.3,0.1,0.05,0.03,0.01],\n",
    "#     'n_estimators':np.arange(50,200,20),\n",
    "#     'max_depth':np.arange(3,10,1),\n",
    "#     'gamma':np.arange(0.1,1,.1),\n",
    "#     'min_child_weight':np.arange(0,5,1),\n",
    "#     'subsample':np.arange(0.3,1,.1),\n",
    "#     'colsample_bytree':np.arange(0.3,1,.1),\n",
    "#     'colsample_bylevel':np.arange(0.3,1,.1),\n",
    "#     'reg_alpha':np.arange(0,0.5,.1),\n",
    "#     'reg_lambda':np.arange(0.5,1,.1),\n",
    "}\n",
    "cv = GridSearchCV(estimator=model,param_grid=para,scoring='neg_mean_squared_error',cv=5,verbose=1,n_jobs=-1)\n",
    "cv.fit(x_train,y_train)\n",
    "print(\"Best params:\",cv.best_params_)\n",
    "print('Best score:',cv.best_score_)"
   ]
  },
  {
   "cell_type": "code",
   "execution_count": null,
   "metadata": {},
   "outputs": [],
   "source": []
  }
 ],
 "metadata": {
  "kernelspec": {
   "display_name": "Python 3",
   "language": "python",
   "name": "python3"
  },
  "language_info": {
   "codemirror_mode": {
    "name": "ipython",
    "version": 3
   },
   "file_extension": ".py",
   "mimetype": "text/x-python",
   "name": "python",
   "nbconvert_exporter": "python",
   "pygments_lexer": "ipython3",
   "version": "3.6.8"
  },
  "toc": {
   "base_numbering": 1,
   "nav_menu": {},
   "number_sections": true,
   "sideBar": true,
   "skip_h1_title": false,
   "title_cell": "Table of Contents",
   "title_sidebar": "Contents",
   "toc_cell": false,
   "toc_position": {},
   "toc_section_display": true,
   "toc_window_display": false
  }
 },
 "nbformat": 4,
 "nbformat_minor": 2
}
